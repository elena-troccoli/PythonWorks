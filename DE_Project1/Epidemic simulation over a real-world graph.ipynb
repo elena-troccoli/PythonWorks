{
 "cells": [
  {
   "cell_type": "markdown",
   "metadata": {},
   "source": [
    "# Epidemic simulation over a real-world graph"
   ]
  },
  {
   "cell_type": "markdown",
   "metadata": {},
   "source": [
    "In this projet we will mathematically model the spreading of an infectious disease among a group of people.\n",
    "The model used to run the simulation is the SIR model https://en.wikipedia.org/wiki/Compartmental_models_in_epidemiology#The_SIR_model). In this case, the epidemic is modeled as a process over a graph that represents the population of individuals: nodes are people whose social interactions are represented through edges. \n",
    "\n",
    "We will then be asked to choose N sentinel-nodes. In other words, we want to choose a (possibly) small number of individuals to monitor, so that if an epidemic is spreading over the graph, we will be alarmed at the very initial stage of it.\n",
    "We will do so both with complete and partial information about the social graphs itself."
   ]
  },
  {
   "cell_type": "code",
   "execution_count": 3,
   "metadata": {},
   "outputs": [],
   "source": [
    "import numpy as np\n",
    "import networkx as nx\n",
    "import matplotlib.pyplot as plt\n",
    "from operator import itemgetter\n",
    "import operator\n",
    "import random\n",
    "\n",
    "%matplotlib inline"
   ]
  },
  {
   "cell_type": "markdown",
   "metadata": {},
   "source": [
    "## Part 1"
   ]
  },
  {
   "cell_type": "markdown",
   "metadata": {},
   "source": [
    "### 1.1 Degree distribution"
   ]
  },
  {
   "cell_type": "markdown",
   "metadata": {},
   "source": [
    "In this analysis I used the graph *CA-HepTh* from the Stanford SNAP repository, a graph that represents the scientific collaborations between authors papers submitted to High Energy Physics - Theory category."
   ]
  },
  {
   "cell_type": "code",
   "execution_count": 4,
   "metadata": {},
   "outputs": [
    {
     "data": {
      "text/plain": [
       "False"
      ]
     },
     "execution_count": 4,
     "metadata": {},
     "output_type": "execute_result"
    }
   ],
   "source": [
    "# Import the txt file and build the (undirected) graph\n",
    "G0 = nx.Graph()\n",
    "f = open(\"CA-HepTh.txt\")\n",
    "for line in f:\n",
    "    s = line.strip().split()\n",
    "    G0.add_edge(s[0],s[1])\n",
    "f.close()\n",
    "#check if the resulting graph is connected\n",
    "nx.is_connected(G0)"
   ]
  },
  {
   "cell_type": "markdown",
   "metadata": {},
   "source": [
    "Since G0 is not connected, select its largest connected component"
   ]
  },
  {
   "cell_type": "code",
   "execution_count": 7,
   "metadata": {},
   "outputs": [],
   "source": [
    "# List of the connected compononents oredered by their nodes number, in decreasing order\n",
    "Gcc = sorted(nx.connected_component_subgraphs(G0), key = len, reverse=True)\n",
    "G = Gcc[0]"
   ]
  },
  {
   "cell_type": "markdown",
   "metadata": {},
   "source": [
    "Computation of the degree distribution:"
   ]
  },
  {
   "cell_type": "code",
   "execution_count": 20,
   "metadata": {},
   "outputs": [],
   "source": [
    "# dictionary node: degree\n",
    "degrees = {node:val for (node, val) in G.degree()} \n",
    "# the set of all the values of the degrees\n",
    "values = sorted(set(degrees.values()))\n",
    "# list number of nodes with degree v\n",
    "hist = [sum(map((v).__eq__, degrees.values())) for v in values]"
   ]
  },
  {
   "cell_type": "markdown",
   "metadata": {},
   "source": [
    "Loglog plot of the degree distribution"
   ]
  },
  {
   "cell_type": "code",
   "execution_count": 21,
   "metadata": {},
   "outputs": [
    {
     "data": {
      "image/png": "[encoded data removed]",
      "text/plain": [
       "<Figure size 432x288 with 1 Axes>"
      ]
     },
     "metadata": {
      "needs_background": "light"
     },
     "output_type": "display_data"
    }
   ],
   "source": [
    "plt.loglog(values,hist,'.') \n",
    "plt.xlabel('Degree')\n",
    "plt.ylabel('Number of nodes')\n",
    "plt.show()"
   ]
  },
  {
   "cell_type": "markdown",
   "metadata": {},
   "source": [
    "### 1.2 Epidemic simulation"
   ]
  },
  {
   "cell_type": "markdown",
   "metadata": {},
   "source": [
    "Set up a simulation of an SIR epidemic model on the graph. Choose values of the model parameters \\beta and \\mu that allow the epidemic to take off with high probability, reaching most of the graph. Plot the epidemic curve."
   ]
  },
  {
   "cell_type": "code",
   "execution_count": 23,
   "metadata": {},
   "outputs": [],
   "source": [
    "def simulateSIR(G, mu, beta, seed):\n",
    "    \n",
    "    # set up initial state of the system\n",
    "\n",
    "    # list of infected nodes\n",
    "    infected_nodes = [seed]\n",
    "\n",
    "    # we need to store the disease status of each node\n",
    "    # S=0, I=1, R=-1\n",
    "    G.disease_status = dict((n,0) for n in G.nodes())\n",
    "    \n",
    "    G.disease_status[seed] = 1\n",
    "\n",
    "    # used to store the history of the system\n",
    "    I_net = []\n",
    "    \n",
    "    # loop until there are infectious nodes\n",
    "    while len(infected_nodes) > 0:\n",
    "        # store state:\n",
    "        # each item is a tuple of the form (<number of infected nodes>, <node dictionary>),\n",
    "        # where <node dictionary> has node IDs as keys and node disease status as values.\n",
    "        I_net.append( (len(infected_nodes), G.disease_status.copy()) )\n",
    "\n",
    "        # TRANSMISSION: loop over infectious nodes\n",
    "        for i in infected_nodes:\n",
    "            # loop over the neighbors of infectious nodes\n",
    "            for j in G.neighbors(i):\n",
    "                if G.disease_status[j] == 0:\n",
    "                    # here j is a susceptible neighbor of infectious node i\n",
    "                    if np.random.random() < beta:\n",
    "                        G.disease_status[j] = 1 # node j has now been infected\n",
    "        \n",
    "        # RECOVERY\n",
    "        for k in infected_nodes:             \n",
    "            if np.random.random() < mu:\n",
    "                G.disease_status[k] = -1\n",
    "\n",
    "        # update list of infectious nodes\n",
    "        infected_nodes = [n for n in G.nodes() if G.disease_status[n] == 1]\n",
    "        \n",
    "    I_net.append( (len(infected_nodes), G.disease_status.copy()) )\n",
    "    return(I_net)"
   ]
  },
  {
   "cell_type": "code",
   "execution_count": 24,
   "metadata": {},
   "outputs": [],
   "source": [
    "# Parameters\n",
    "B=0.08; M=0.02"
   ]
  },
  {
   "cell_type": "code",
   "execution_count": 32,
   "metadata": {},
   "outputs": [],
   "source": [
    "# Nodes ordered by degree in increasing order\n",
    "#nodes_bydegree = map(itemgetter(0), sorted(G.degree_iter(), key=itemgetter(1)))\n",
    "nodes_bydegree = list(map(itemgetter(0), sorted(degrees.items(), key=operator.itemgetter(1))))\n",
    "# Choose the seed node as the node with max degree\n",
    "seed = nodes_bydegree[-1]\n",
    "\n",
    "# Run a simulation of the epidemic\n",
    "I_net = simulateSIR(G,beta=B,mu=M,seed=seed)"
   ]
  },
  {
   "cell_type": "code",
   "execution_count": 34,
   "metadata": {},
   "outputs": [
    {
     "data": {
      "text/plain": [
       "[<matplotlib.lines.Line2D at 0x28c264a4d68>]"
      ]
     },
     "execution_count": 34,
     "metadata": {},
     "output_type": "execute_result"
    },
    {
     "data": {
      "image/png": "[encoded data removed]",
      "text/plain": [
       "<Figure size 864x504 with 1 Axes>"
      ]
     },
     "metadata": {
      "needs_background": "light"
     },
     "output_type": "display_data"
    }
   ],
   "source": [
    "plt.figure(figsize=(12,7))\n",
    "plt.xlabel('Time', fontsize=15)\n",
    "plt.ylabel('Prevalence', fontsize=15)\n",
    "plt.plot(range(0,len(I_net)), [float(n)/len(G.nodes()) for n, state in I_net], '.-' )"
   ]
  },
  {
   "cell_type": "code",
   "execution_count": 37,
   "metadata": {},
   "outputs": [
    {
     "name": "stdout",
     "output_type": "stream",
     "text": [
      "Total number of nodes 8638\n",
      "The total number of recovered nodes is 8053\n",
      "The final attack rate is 0.9322759898124566\n",
      "The epidemic is over at time 571\n"
     ]
    }
   ],
   "source": [
    "recovered = len([n for n in G.disease_status if G.disease_status[n] == -1])\n",
    "final_t = len(I_net)\n",
    "\n",
    "print (\"Total number of nodes\", G.number_of_nodes())\n",
    "print (\"The total number of recovered nodes is\", recovered)\n",
    "print (\"The final attack rate is\", float(recovered)/len(G.nodes()))\n",
    "print (\"The epidemic is over at time\", final_t)"
   ]
  },
  {
   "cell_type": "markdown",
   "metadata": {},
   "source": [
    "Hence with this choice of the parameters $\\beta$ and $\\mu$ and of the seed, the epidemic spread on over the $93\\%$ of the graph."
   ]
  },
  {
   "cell_type": "markdown",
   "metadata": {},
   "source": [
    "## Part 2"
   ]
  },
  {
   "cell_type": "markdown",
   "metadata": {},
   "source": [
    "### 2.1 Modify the simulation function"
   ]
  },
  {
   "cell_type": "markdown",
   "metadata": {},
   "source": [
    "Modify the simulation function of the SIR model, introducing a list of N sentinels.\n",
    "The function takes in input:\n",
    "- the graph G\n",
    "- $\\mu$ and $\\beta$\n",
    "- the list of sentinels\n",
    "- the seed\n",
    "\n",
    "For every sentinel in the list, I store its arrival time (i.e. the time at which the sentinel is infected) into the list *arrival_times*.\n",
    "Then I compute the mean arrival time on all the sentinels that have been infected. In this analysis I am not considering the fraction of not-infected sentinel, since the epidemic reaches the $93\\%$ of the nodes.\n",
    "\n",
    "The output is the mean arrival time of the epidemic at the sentinels."
   ]
  },
  {
   "cell_type": "code",
   "execution_count": 38,
   "metadata": {},
   "outputs": [],
   "source": [
    "def SIR_arrival_time(G, mu, beta, sentinels,seed):\n",
    "   \n",
    "    # list of infected nodes\n",
    "    infected_nodes = [ seed ]\n",
    "\n",
    "    # we need to store the disease status of each node\n",
    "    # S=0, I=1, R=-1\n",
    "    G.disease_status = dict((n,0) for n in G.nodes())\n",
    "    G.disease_status[seed] = 1\n",
    "    \n",
    "    # counter, the simulation begins at time=1\n",
    "    time = 0\n",
    "    \n",
    "    # in this list I will store the arrival time at each sentinel\n",
    "    arrival_times=[]    \n",
    "    \n",
    "    # loop until there are infectious nodes\n",
    "    while len(infected_nodes) > 0:\n",
    "        \n",
    "        time = time +1\n",
    "        # store state:\n",
    "        # each item is a tuple of the form (<number of infected nodes>, <node dictionary>),\n",
    "        # where <node dictionary> has node IDs as keys and node disease status as values.\n",
    "        \n",
    "        \n",
    "        # TRANSMISSION: loop over infectious nodes\n",
    "        for i in infected_nodes:\n",
    "            # loop over the neighbors of infectious nodes\n",
    "            for j in G.neighbors(i):\n",
    "                if G.disease_status[j] == 0:\n",
    "                    # here j is a susceptible neighbor of infectious node i\n",
    "                    p = np.random.random()\n",
    "                    if p < beta:\n",
    "                        G.disease_status[j] = 1 # node j has now been infected\n",
    "                        \n",
    "                        # if the infected node is a sentinel, append the current time \n",
    "                        # to the final list\n",
    "                        if j in sentinels:\n",
    "                            arrival_times.append(time)\n",
    "        \n",
    "        # RECOVERY\n",
    "        for k in infected_nodes:            \n",
    "            p = np.random.random()\n",
    "            if p < mu:\n",
    "                G.disease_status[k] = -1\n",
    "\n",
    "        # update list of infectious nodes\n",
    "        infected_nodes = [n for n in G.nodes() if G.disease_status[n] == 1]\n",
    "    \n",
    "    # return the mean arrival time\n",
    "    return(np.mean(arrival_times))"
   ]
  },
  {
   "cell_type": "code",
   "execution_count": 39,
   "metadata": {},
   "outputs": [],
   "source": [
    "# the number of sentinels\n",
    "# is about the 1% of the total number of nodes\n",
    "N = 100  "
   ]
  },
  {
   "cell_type": "markdown",
   "metadata": {},
   "source": [
    "Now choose $N=100$ sentinel nodes and simulate the distribution of the arrival time of the epidemic at each sentinel."
   ]
  },
  {
   "cell_type": "code",
   "execution_count": 40,
   "metadata": {},
   "outputs": [],
   "source": [
    "# Choose N random nodes\n",
    "random_sentinels = random.sample(G.nodes(),N)\n",
    "# Run 500 simulation of the epidemic\n",
    "arr_time_distr = [SIR_arrival_time(G=G, mu=M, beta=B,sentinels=random_sentinels,seed=seed) for i in range(500)]"
   ]
  },
  {
   "cell_type": "code",
   "execution_count": 41,
   "metadata": {},
   "outputs": [
    {
     "data": {
      "image/png": "[encoded data removed]",
      "text/plain": [
       "<Figure size 432x288 with 1 Axes>"
      ]
     },
     "metadata": {
      "needs_background": "light"
     },
     "output_type": "display_data"
    }
   ],
   "source": [
    "plt.ylabel('Arrival Time', fontsize=15)\n",
    "p=plt.boxplot(arr_time_distr,labels=['random_nodes'])"
   ]
  },
  {
   "cell_type": "markdown",
   "metadata": {},
   "source": [
    "### 2.2  Simulations with random sentinels"
   ]
  },
  {
   "cell_type": "markdown",
   "metadata": {},
   "source": [
    "Consider many random choices for the N sentinel nodes, as well as many epidemics (as already done above), and recompute the above distribution of arrival times (so that this times, it also takes into account the randomness due to the random selection of sentinel nodes)."
   ]
  },
  {
   "cell_type": "code",
   "execution_count": 18,
   "metadata": {},
   "outputs": [],
   "source": [
    "# For every iteration, sample N random nodes from G.nodes() and use them as sentinel\n",
    "# Run 500 simulations\n",
    "arrival_time_distribution_random = [ SIR_arrival_time(G,beta=B,mu=M,sentinels=random.sample(G.nodes(),N),seed=seed) for i in range(500)]"
   ]
  },
  {
   "cell_type": "code",
   "execution_count": 19,
   "metadata": {},
   "outputs": [
    {
     "data": {
      "image/png": "[encoded data removed]",
      "text/plain": [
       "<matplotlib.figure.Figure at 0x29eab710>"
      ]
     },
     "metadata": {},
     "output_type": "display_data"
    }
   ],
   "source": [
    "plt.ylabel('Arrival Time', fontsize=15)\n",
    "p=plt.boxplot(arrival_time_distribution_random, labels=['different_random_nodes'])"
   ]
  },
  {
   "cell_type": "markdown",
   "metadata": {},
   "source": [
    "### 2.3 Centrality Metrics\n",
    "\n",
    "Compute a few centrality metrics for all the nodes of the network. For each of these metrics, compute a global ranking of nodes and choose as sentinels the top-N and bottom-N nodes of the ranking. Re-run the simulations above and see how the resulting distribution of arrival times is affected. Comapre the results in a boxplot."
   ]
  },
  {
   "cell_type": "markdown",
   "metadata": {},
   "source": [
    "#### Degree Centrality"
   ]
  },
  {
   "cell_type": "code",
   "execution_count": 42,
   "metadata": {},
   "outputs": [],
   "source": [
    "# the N nodes with lowest degree\n",
    "sentinel_low_deg = nodes_bydegree[0:N]\n",
    "arrival_time_distribution_low_deg = [SIR_arrival_time(G,beta=B,mu=M,seed=seed,\n",
    "                                            sentinels=sentinel_low_deg) for i in range(100)]\n",
    "\n",
    "# the N nodes with highest degree, excluding the seed\n",
    "sentinel_top_degree = nodes_bydegree[-N-2:-2]\n",
    "arrival_time_distribution_top_degree = [SIR_arrival_time(G,beta=B,mu=M,seed=seed,sentinels=sentinel_top_degree ) for i in range(500)]"
   ]
  },
  {
   "cell_type": "markdown",
   "metadata": {},
   "source": [
    "#### Closeness Centrality"
   ]
  },
  {
   "cell_type": "code",
   "execution_count": 21,
   "metadata": {},
   "outputs": [],
   "source": [
    "# dictionary node: closeness centrality\n",
    "closn = nx.closeness_centrality(G)\n",
    "\n",
    "# Select the N nodes with largest closeness centrality\n",
    "sentinel_top_closeness = map(itemgetter(0),sorted(closn.items(), key=operator.itemgetter(1)))[-N-1:-1]\n",
    "arrival_time_distribution_top_closeness = [SIR_arrival_time(G,beta=B,mu=M,seed=seed,sentinels=sentinel_top_closeness ) for i in range(500)]"
   ]
  },
  {
   "cell_type": "markdown",
   "metadata": {},
   "source": [
    "#### Betweenness Centrality"
   ]
  },
  {
   "cell_type": "code",
   "execution_count": 27,
   "metadata": {},
   "outputs": [],
   "source": [
    "# dictionary node: betweenness centrality\n",
    "betw = nx.betweenness_centrality(G)\n",
    "\n",
    "# Select as sentinels the N nodes with highest betweenness centrality\n",
    "sentinel_top_betweennes = map(itemgetter(0),sorted(betw.items(), key=operator.itemgetter(1)))[-N-1:-1]\n",
    "arrival_time_distribution_top_betweennes = [SIR_arrival_time(G,beta=B,mu=M,seed=seed, sentinels=sentinel_top_betweennes) for i in range(500)]"
   ]
  },
  {
   "cell_type": "markdown",
   "metadata": {},
   "source": [
    "#### PageRank Centrality"
   ]
  },
  {
   "cell_type": "code",
   "execution_count": 31,
   "metadata": {},
   "outputs": [],
   "source": [
    "# dictionary node: pagerank\n",
    "pagerank = nx.pagerank(G)\n",
    "\n",
    "# Select the sentinels as the N nodes with highest pagerank\n",
    "sentinel_top_pagerank = map(itemgetter(0),sorted(pagerank.items(), key=operator.itemgetter(1)))[-N-1:-1]\n",
    "arrival_time_distribution_top_pagerank = [SIR_arrival_time(G,beta=B,mu=M,seed=seed,sentinels=sentinel_top_pagerank) for i in range(500)]\n"
   ]
  },
  {
   "cell_type": "code",
   "execution_count": 32,
   "metadata": {},
   "outputs": [
    {
     "data": {
      "image/png": "[encoded data removed]",
      "text/plain": [
       "<matplotlib.figure.Figure at 0xf2dbda0>"
      ]
     },
     "metadata": {},
     "output_type": "display_data"
    }
   ],
   "source": [
    "plt.figure(figsize=(14,7))\n",
    "plt.ylabel('Arrival Time', fontsize=15)\n",
    "data = [arrival_time_distribution_random,\n",
    "        arrival_time_distribution_top_degree, arrival_time_distribution_low_deg,\n",
    "        arrival_time_distribution_top_closeness,\n",
    "        arrival_time_distribution_top_betweennes,\n",
    "        arrival_time_distribution_top_pagerank]\n",
    "labels = ['rnd','top_deg','low_deg','top_clo','top_btw','top_prank']\n",
    "p=plt.boxplot(data,labels=labels)"
   ]
  },
  {
   "cell_type": "markdown",
   "metadata": {},
   "source": [
    "From this boxplot we can see that choosing the $N$ nodes with highest centrlity, gives an improvement with respect to the random choice of the sentinel.\n",
    "\n",
    "The three centrlity metrics that give better results are the Closeness, Degree and PageRank."
   ]
  },
  {
   "cell_type": "code",
   "execution_count": 33,
   "metadata": {},
   "outputs": [
    {
     "data": {
      "image/png": "[encoded data removed]",
      "text/plain": [
       "<matplotlib.figure.Figure at 0xf197400>"
      ]
     },
     "metadata": {},
     "output_type": "display_data"
    }
   ],
   "source": [
    "plt.figure(figsize=(10,7))\n",
    "plt.ylabel('Arrival Time', fontsize=15)\n",
    "data = [arrival_time_distribution_top_degree, \n",
    "        arrival_time_distribution_top_closeness,\n",
    "        arrival_time_distribution_top_pagerank]\n",
    "labels = ['top_deg','top_clo','top_prank']\n",
    "p=plt.boxplot(data,labels=labels)"
   ]
  },
  {
   "cell_type": "markdown",
   "metadata": {},
   "source": [
    "Since a node can infect only its neighbors, the probability that a given infected node *a* will infect a suscetible node *b* is inversely proportional to their distance. Choosing as sentinels the $N$ nodes with highest Closeness Centrality is equivalent to choose the $N$ nodes that have a smaller average distance from all the other nodes in the graph. Hence they will also be the nodes that get infected earlier.\n",
    "\n",
    "Besides a node is infected only by its neighbors. Hence the probability that a certain susceptible node *a* will be infected is directly proportional to its degree. This is why the Degree Centrality metrics performs very well too. The PageRank Centrality instead takes into account also the degree of the neighbors of the node *a*."
   ]
  },
  {
   "cell_type": "markdown",
   "metadata": {},
   "source": [
    "## Part 3\n",
    "\n",
    "Let us select N nodes at random as sentinels. Imagine that we do not have global information about the graph, and that we have information about the graph neighborhoods of the chosen nodes. That is, we know the identity of the randomly chosen nodes, the identify of their neighbors, and the edges among the latter. Starting from the initial random set of N nodes, can we build another set of N nodes that improves (reduced) the average detection time of the epidemic?"
   ]
  },
  {
   "cell_type": "markdown",
   "metadata": {},
   "source": [
    "### 3.1"
   ]
  },
  {
   "cell_type": "markdown",
   "metadata": {},
   "source": [
    "I will run 200 simulation of the epidemic, in order to compute the arrival time distribution of the epidemic with three different set of sentinels:\n",
    "1. the given $N$ random nodes\n",
    "2. for every random node, choose one of its neighbors at random\n",
    "3. for every random node, choose its neighbor with maximum degree"
   ]
  },
  {
   "cell_type": "code",
   "execution_count": 34,
   "metadata": {},
   "outputs": [],
   "source": [
    "# Choose N nodes at random \n",
    "random_nodes = random.sample(G.nodes(),N)\n",
    "\n",
    "# dictionary node: subgraph induced by its neighbors\n",
    "subgraphs = {node: G.subgraph(G.neighbors(node)) for node in random_nodes}\n",
    "\n",
    "# Run 200 simulation using the given random nodes, in order to have a measure of the improvement interms of arrival time\n",
    "arr_time_partial_knowledge_ = [SIR_arrival_time(G,beta=B,mu=M,seed=seed,sentinels=random_nodes ) for i in range(200)]\n",
    "\n",
    "# For each random node, I pick at random one of its neighbors and I append it in the list of the sentinel nodes\n",
    "sentinel_rnd = [random.sample(subgraphs[node].nodes() ,1)[0] for node in random_nodes]\n",
    "# With this choice of the sentinels, run the 200 simulations\n",
    "arr_time_partial_knowledge_rnd = [SIR_arrival_time(G,beta=B,mu=M,seed=seed,sentinels=sentinel_rnd ) for i in range(200)]\n",
    "\n",
    "# For each random node, pick its neighbors with max degree\n",
    "sentinel_max_deg = [sorted(subgraphs[node].degree_iter(), key=itemgetter(1))[-1][0] for node in random_nodes]\n",
    "# With this choice of the sentinel nodes, run 200 simulations\n",
    "arr_time_partial_knowledge_max_deg = [SIR_arrival_time(G,beta=B,mu=M,seed=seed,sentinels=sentinel_max_deg) for i in range(200)]"
   ]
  },
  {
   "cell_type": "code",
   "execution_count": 35,
   "metadata": {},
   "outputs": [
    {
     "data": {
      "image/png": "[encoded data removed]",
      "text/plain": [
       "<matplotlib.figure.Figure at 0x29eb6208>"
      ]
     },
     "metadata": {},
     "output_type": "display_data"
    }
   ],
   "source": [
    "# Plot the results into a boxplot\n",
    "data = [arr_time_partial_knowledge_,arr_time_partial_knowledge_rnd, arr_time_partial_knowledge_max_deg]\n",
    "labels = ['given_node','rnd_neighbor','max_deg_neighbor']\n",
    "plt.figure(figsize=(14,7))\n",
    "plt.ylabel('Arrival Time', fontsize=15)\n",
    "p=plt.boxplot(data,labels=labels)"
   ]
  },
  {
   "cell_type": "markdown",
   "metadata": {},
   "source": [
    "### 3.2"
   ]
  },
  {
   "cell_type": "markdown",
   "metadata": {},
   "source": [
    "2. The reason why choosing a random neighbor improves result is due to the so-called *friendship paradox*: on average my friends are more popular than I am. This happens because a node is more likely to connected with hubs than with small-degree nodes, simply because hubs have more neighbors than the small nodes. (Barabasi - *Network Science*, cap7).\n",
    "\n",
    "3. Given a random node *a*, the probability that one of its neighbors $\\nu$ has a degree $d_{SG}(\\nu)$ in the subgraph induced by *a* and its neighbors, is directly proportional to the degree that $\\nu$ has in the original larger graph $G$, namely $d_G(\\nu)$. Hence, if for every random node I pick its neighbor $\\nu$ with highest $d_{SG}(\\nu)$, I can reasonably expect that $\\nu$ will also have an higher degree $d_G(\\nu)$ with respect to the other neighbors of *a*"
   ]
  }
 ],
 "metadata": {
  "anaconda-cloud": {},
  "kernelspec": {
   "display_name": "Python 3",
   "language": "python",
   "name": "python3"
  },
  "language_info": {
   "codemirror_mode": {
    "name": "ipython",
    "version": 3
   },
   "file_extension": ".py",
   "mimetype": "text/x-python",
   "name": "python",
   "nbconvert_exporter": "python",
   "pygments_lexer": "ipython3",
   "version": "3.7.1"
  }
 },
 "nbformat": 4,
 "nbformat_minor": 1
}
